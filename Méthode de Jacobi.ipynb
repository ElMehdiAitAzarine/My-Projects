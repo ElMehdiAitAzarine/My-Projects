{
 "cells": [
  {
   "cell_type": "markdown",
   "id": "004d848b",
   "metadata": {},
   "source": [
    "La Méthode de Jacobi pour résoudre les systèmes linéaires"
   ]
  },
  {
   "cell_type": "code",
   "execution_count": 70,
   "id": "f0a4bcec",
   "metadata": {},
   "outputs": [],
   "source": [
    "#fonction d'acquisition de la matrice A , b et la matrice initial X0\n",
    "def Acquisition():\n",
    "    # j'ai la matrice L au lieu de A et l'initialisée avec le vide\n",
    "    L=[]\n",
    "    # Entrer le nombres d'inconnus\n",
    "    n=int(input(\"Entrer le nombres d'inconnu: \"))\n",
    "    #pour reserver 3 lignes vides\n",
    "    for i in range(n):\n",
    "        L1=[]\n",
    "        # à chaque fois la remlire une ligne avec trois valeurs\n",
    "        for j in range(n): \n",
    "            a=float(input('Entrer une valeur:'))\n",
    "            L1.append(a)        \n",
    "        L.append(L1)\n",
    "    print(\"la matrice A est: \",L) #Pour la verification\n",
    "    #Acquisition des valeurs pour la matrice b et X0\n",
    "    B=[]\n",
    "    X0=[]\n",
    "    for k in range(n):\n",
    "        c=int(input('Entrer une valeur pour la matrice b :'))\n",
    "        B.append(c)\n",
    "    for k1 in range(n):\n",
    "        c1=int(input('Entrer les valeurs de la matrice initiale:'))\n",
    "        X0.append(c1)                        \n",
    "    return L,B,X0,n"
   ]
  },
  {
   "cell_type": "code",
   "execution_count": 84,
   "id": "9ecc7d3b",
   "metadata": {},
   "outputs": [],
   "source": [
    "#verification est ce que la matrice A est diagonale dominante et ne contient pas de valeurs nulles\n",
    "def Verification(L,n):\n",
    "    import numpy as np   \n",
    "    for i in range(n):\n",
    "        a=0\n",
    "        for j in range(n):\n",
    "            if i!=j :\n",
    "                a+=abs(L[i][j])\n",
    "        if abs(L[i][i])>=a and L[i][i]!=0 : return True \n",
    "    return False"
   ]
  },
  {
   "cell_type": "code",
   "execution_count": 85,
   "id": "322c25c8",
   "metadata": {},
   "outputs": [],
   "source": [
    "def P_Traitement():\n",
    "    Lista=Acquisition()\n",
    "    L=Lista[0]\n",
    "    B=Lista[1]\n",
    "    X0=Lista[2]    \n",
    "    n=Lista[3]\n",
    "    #n=5\n",
    "   # L=[[15.0,6.0,-1.0,1.0,4.0],[4.0,27.0,-7.0,8.0,6.0],[5.0,7.0,3.0,-19.0,7.0],[13.0,4.0,2.0,5.0,33.0],[5.0,4.0,1.0,7.0,-28.0]] #c'est juste pour faciliter la verification est ce qu'il ça marche ou pas.   \n",
    "   # B=[6.0,4.0,9.0,4.0,3.0] #c'est juste pour faciliter la verification est ce qu'il ça marche ou pas.   \n",
    "   # X0=[0.0,0.0,0.0,0.0,0.0] #c'est juste pour faciliter la verification est ce qu'il ça marche ou pas.   \n",
    "    valab=Verification(L,n) # verifier si les critères sont valables ou pas\n",
    "    if valab==False:\n",
    "        max_it=int(input('tapper le max_it \\n')) #pour ajouter le nombre d'itérations\n",
    "    else: return \"Erreur\"   \n",
    "    \n",
    " ### la partie à modifier   \n",
    "       \n",
    "    for m in range(max_it): \n",
    "        list_p=[]\n",
    "        for k in range(n):\n",
    "            y=0            \n",
    "            for j in range(n):\n",
    "                if L[k][j]==L[k][k] : continue\n",
    "                xy=(-L[k][j]*X0[j])/L[k][k]\n",
    "                y+=xy\n",
    "            y+=B[k]\n",
    "            list_p.append(y)\n",
    "        X0=list_p\n",
    "        print(\"la\",m+1,'ème itération:') \n",
    "        print(list_p)\n",
    "\n"
   ]
  },
  {
   "cell_type": "code",
   "execution_count": 86,
   "id": "8de60869",
   "metadata": {
    "scrolled": false
   },
   "outputs": [
    {
     "name": "stdout",
     "output_type": "stream",
     "text": [
      "Entrer le nombres d'inconnu: 3\n",
      "Entrer une valeur:-1\n",
      "Entrer une valeur:1\n",
      "Entrer une valeur:-1\n",
      "Entrer une valeur:3\n",
      "Entrer une valeur:-1\n",
      "Entrer une valeur:1\n",
      "Entrer une valeur:-1\n",
      "Entrer une valeur:3\n",
      "Entrer une valeur:-1\n",
      "la matrice A est:  [[-1.0, 1.0, -1.0], [3.0, -1.0, 1.0], [-1.0, 3.0, -1.0]]\n",
      "Entrer une valeur pour la matrice b :7\n",
      "Entrer une valeur pour la matrice b :-7\n",
      "Entrer une valeur pour la matrice b :1\n",
      "Entrer les valeurs de la matrice initiale:0\n",
      "Entrer les valeurs de la matrice initiale:0\n",
      "Entrer les valeurs de la matrice initiale:0\n",
      "tapper le max_it \n",
      "3\n",
      "la 1 ème itération:\n",
      "[7.0, -7.0, 1.0]\n",
      "la 2 ème itération:\n",
      "[0.0, 15.0, -20.0]\n",
      "la 3 ème itération:\n",
      "[22.0, -27.0, 46.0]\n"
     ]
    }
   ],
   "source": [
    "P_Traitement()"
   ]
  },
  {
   "cell_type": "code",
   "execution_count": null,
   "id": "35a8e9c8",
   "metadata": {},
   "outputs": [],
   "source": []
  }
 ],
 "metadata": {
  "kernelspec": {
   "display_name": "Python 3 (ipykernel)",
   "language": "python",
   "name": "python3"
  },
  "language_info": {
   "codemirror_mode": {
    "name": "ipython",
    "version": 3
   },
   "file_extension": ".py",
   "mimetype": "text/x-python",
   "name": "python",
   "nbconvert_exporter": "python",
   "pygments_lexer": "ipython3",
   "version": "3.9.7"
  }
 },
 "nbformat": 4,
 "nbformat_minor": 5
}
