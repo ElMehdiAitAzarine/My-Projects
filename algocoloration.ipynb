{
  "cells": [
    {
      "cell_type": "markdown",
      "metadata": {
        "id": "view-in-github",
        "colab_type": "text"
      },
      "source": [
        "<a href=\"https://colab.research.google.com/github/ElMehdiAitAzarine/My-Projects/blob/main/algocoloration.ipynb\" target=\"_parent\"><img src=\"https://colab.research.google.com/assets/colab-badge.svg\" alt=\"Open In Colab\"/></a>"
      ]
    },
    {
      "cell_type": "code",
      "execution_count": null,
      "id": "f40a71b0",
      "metadata": {
        "id": "f40a71b0",
        "outputId": "9bd25a8d-93d0-4bef-c047-afa725f32134"
      },
      "outputs": [
        {
          "name": "stdout",
          "output_type": "stream",
          "text": [
            "enter un sommet:a\n",
            "encore? :a\n",
            "enter un sommet:b\n",
            "encore? :b\n",
            "enter un sommet:c\n",
            "encore? :c\n",
            "enter un sommet:d\n",
            "encore? :d\n",
            "enter un sommet:e\n",
            "encore? :no\n",
            "['a', 'b', 'c', 'd', 'e']\n",
            "enter un sommet associé à  a  :\n",
            "b\n",
            "encore?:b\n",
            "enter un sommet associé à  a  :\n",
            "c\n",
            "encore?:no\n",
            "enter un sommet associé à  b  :\n",
            "a\n",
            "encore?:a\n",
            "enter un sommet associé à  b  :\n",
            "c\n",
            "encore?:c\n",
            "enter un sommet associé à  b  :\n",
            "d\n",
            "encore?:no\n",
            "enter un sommet associé à  c  :\n",
            "a\n",
            "encore?:a\n",
            "enter un sommet associé à  c  :\n",
            "b\n",
            "encore?:b\n",
            "enter un sommet associé à  c  :\n",
            "d\n",
            "encore?:no\n",
            "enter un sommet associé à  d  :\n",
            "b\n",
            "encore?:b\n",
            "enter un sommet associé à  d  :\n",
            "c\n",
            "encore?:c\n",
            "enter un sommet associé à  d  :\n",
            "e\n",
            "encore?:no\n",
            "enter un sommet associé à  e  :\n",
            "d\n",
            "encore?:no\n"
          ]
        },
        {
          "data": {
            "text/plain": [
              "('j',\n",
              " [['a', 'b', 'c', 'd', 'e'],\n",
              "  ['b', 'a', 'a', 'b', 'd'],\n",
              "  ['c', 'c', 'b', 'c', '0'],\n",
              "  ['0', 'd', 'd', 'e', '0'],\n",
              "  ['0', '0', '0', '0', '0']],\n",
              " 'tab',\n",
              " ['a', 'b', 'c', 'd', 'e'])"
            ]
          },
          "execution_count": 1,
          "metadata": {},
          "output_type": "execute_result"
        }
      ],
      "source": [
        "def trace():\n",
        "    tab=[]\n",
        "    a=True\n",
        "    while a == True :\n",
        "        b=input(\"enter un sommet:\")\n",
        "        tab.append(b)\n",
        "        c = input(\"encore? :\")\n",
        "        if c=='non' or c=='no' : a=False\n",
        "        else: a == True\n",
        "    print(tab)\n",
        "    j=[[str(0) for i in range(0,len(tab))]for i in range(0,len(tab))]    \n",
        "    for k in range(0,len(tab)):\n",
        "        j[0][k]=tab[k]\n",
        "    for i in range(0,len(tab)):\n",
        "          a=True\n",
        "          k=1\n",
        "          while a==True:             \n",
        "               print('enter un sommet associé à ',j[0][i],' :')                \n",
        "               ac=input()\n",
        "               j[k][i]=ac\n",
        "               k+=1\n",
        "               c=input('encore?:')\n",
        "               if c=='no' or c=='non' : a=False             \n",
        "    return (j,tab)\n",
        "trace()"
      ]
    },
    {
      "cell_type": "code",
      "execution_count": null,
      "id": "b1b88748",
      "metadata": {
        "id": "b1b88748"
      },
      "outputs": [],
      "source": []
    },
    {
      "cell_type": "code",
      "execution_count": null,
      "id": "eb74e749",
      "metadata": {
        "colab": {
          "base_uri": "https://localhost:8080/"
        },
        "id": "eb74e749",
        "outputId": "9ef301ff-97af-4b40-fc18-3ae43c283925"
      },
      "outputs": [
        {
          "output_type": "execute_result",
          "data": {
            "text/plain": [
              "([('d', 3), ('c', 3), ('b', 3), ('a', 2), ('e', 1)],\n",
              " [['a', 'b', 'c', '0', '0'],\n",
              "  ['b', 'a', 'c', 'd', '0'],\n",
              "  ['c', 'a', 'b', 'd', '0'],\n",
              "  ['d', 'b', 'c', 'e', '0'],\n",
              "  ['e', 'd', '0', '0', '0']],\n",
              " ['a', 'b', 'c', 'd', 'e'])"
            ]
          },
          "metadata": {},
          "execution_count": 1
        }
      ],
      "source": [
        "def degs():\n",
        "    import numpy as np\n",
        "    #trac=trace()\n",
        "    #tab=trac[1]\n",
        "    #j=trac[0]\n",
        "    j=[['a', 'b', 'c', 'd', 'e'],\n",
        "  ['b', 'a', 'a', 'b', 'd'],\n",
        "  ['c', 'c', 'b', 'c', '0'],\n",
        "  ['0', 'd', 'd', 'e', '0'],\n",
        "  ['0', '0', '0', '0', '0']]\n",
        "    tab=['a', 'b', 'c', 'd', 'e']\n",
        "    d=len(tab)\n",
        "    l={}\n",
        "    l1=[]\n",
        "    x=[]\n",
        "    y=[]\n",
        "    for i in range(0,len(tab)):\n",
        "        d=len(tab)-1\n",
        "        for k in range(1,len(tab)):\n",
        "            if j[k][i]=='0': d-=1\n",
        "        l[j[0][i]]=d\n",
        "    l = sorted(l.items(),reverse=True)\n",
        "    l.sort(key=lambda a: a[1],reverse=True)\n",
        "    M = np.array(j)\n",
        "    M=M.T\n",
        "    m = M.tolist()\n",
        "    return l,m,tab\n",
        "degs()"
      ]
    },
    {
      "cell_type": "code",
      "execution_count": null,
      "id": "2445a0a2",
      "metadata": {
        "colab": {
          "base_uri": "https://localhost:8080/"
        },
        "id": "2445a0a2",
        "outputId": "60b2db33-85c9-4b20-9d71-e761dfd24851"
      },
      "outputs": [
        {
          "output_type": "stream",
          "name": "stdout",
          "text": [
            "j est :  ['d', 'b', 'c', 'e', '0'] \n",
            "\n",
            "d : color3\n",
            "['0', 'd']\n",
            "a : color3\n",
            "cest tab ['a', 'b', 'c', 'd', 'e']\n",
            "j est :  ['c', 'a', 'b', 'd', '0'] \n",
            "\n",
            "c : color7\n",
            "['0', 'd', 'a', 'c']\n",
            "e : color7\n",
            "cest tab ['a', 'b', 'c', 'd', 'e']\n",
            "j est :  ['b', 'a', 'c', 'd', '0'] \n",
            "\n",
            "b : color11\n",
            "['0', 'd', 'a', 'c', 'e', 'b']\n"
          ]
        }
      ],
      "source": [
        "def col():\n",
        "    a=degs()\n",
        "    l=a[0]\n",
        "    m=a[1]\n",
        "    tab=a[2]\n",
        "    pl=[]\n",
        "    LD=['0']\n",
        "    v=0\n",
        "    for i in range(0,len(l)):\n",
        "        for j in m :\n",
        "                if l[i][0]==j[0] and not j[0] in LD:\n",
        "                   pl.append(str(j[0])+\" : color\"+ str(v))\n",
        "                   LD.append(str(j[0]))\n",
        "                   print('j est : ',j,\"\\n\")\n",
        "                   print(str(j[0])+\" : color\"+ str(v)) \n",
        "                   print(LD)                                                            \n",
        "                   for a in tab: \n",
        "                        if not a in j and not a in LD: \n",
        "                           pl.append(str(a)+\" : color\"+ str(v))\n",
        "                           LD.append(a)\n",
        "                           print(str(a)+\" : color\"+ str(v))\n",
        "                           print(\"cest tab\",tab)\n",
        "                v+=1\n",
        "     return pl                                           \n",
        "                              \n",
        "col()            "
      ]
    }
  ],
  "metadata": {
    "kernelspec": {
      "display_name": "Python 3 (ipykernel)",
      "language": "python",
      "name": "python3"
    },
    "language_info": {
      "codemirror_mode": {
        "name": "ipython",
        "version": 3
      },
      "file_extension": ".py",
      "mimetype": "text/x-python",
      "name": "python",
      "nbconvert_exporter": "python",
      "pygments_lexer": "ipython3",
      "version": "3.9.7"
    },
    "colab": {
      "name": "Untitled.ipynb",
      "provenance": [],
      "include_colab_link": true
    }
  },
  "nbformat": 4,
  "nbformat_minor": 5
}