{
 "cells": [
  {
   "cell_type": "code",
   "execution_count": 1,
   "id": "f0a4bcec",
   "metadata": {},
   "outputs": [],
   "source": [
    "# Ax=b  \n",
    "#fonction d'acquisition de la matrice A , b et la matrice initial X0\n",
    "def Acquisition():\n",
    "    # j'ai la matrice L au lieu de A et l'initialisée avec le vide\n",
    "    L=[]\n",
    "    # Entrer le nombres d'inconnus\n",
    "    n=int(input(\"Entrer le nombres d'inconnus\"))\n",
    "    #pour reserver 3 lignes vides\n",
    "    for i in range(n):\n",
    "        L1=[]\n",
    "        # à chaque fois la remlire une ligne avec trois valeurs\n",
    "        for j in range(n): \n",
    "            a=float(input('Entrer une valeur:'))\n",
    "            L1.append(a)        \n",
    "        L.append(L1)\n",
    "    print(L) #Pour la verification\n",
    "    #Acquisition des valeurs pour la matrice b et X0\n",
    "    B=[]\n",
    "    X0=[]\n",
    "    for k in range(n):\n",
    "        c=int(input('Entrer une valeur pour la matrice b :'))\n",
    "        B.append(c)\n",
    "    for k1 in range(n):\n",
    "        c1=int(input('Entrer les valeurs de la matrice initiale:'))\n",
    "        X0.append(c1)                        \n",
    "    return L,B,X0,n"
   ]
  },
  {
   "cell_type": "code",
   "execution_count": 2,
   "id": "1f9d47a6",
   "metadata": {},
   "outputs": [
    {
     "name": "stdout",
     "output_type": "stream",
     "text": [
      "Entrer le nombres d'inconnus5\n",
      "Entrer une valeur:9\n",
      "Entrer une valeur:-2\n",
      "Entrer une valeur:-1\n",
      "Entrer une valeur:3\n",
      "Entrer une valeur:4\n",
      "Entrer une valeur:6\n",
      "Entrer une valeur:30\n",
      "Entrer une valeur:1\n",
      "Entrer une valeur:4\n",
      "Entrer une valeur:9\n",
      "Entrer une valeur:5\n",
      "Entrer une valeur:9\n",
      "Entrer une valeur:41\n",
      "Entrer une valeur:-2\n",
      "Entrer une valeur:1\n",
      "Entrer une valeur:6\n",
      "Entrer une valeur:9\n",
      "Entrer une valeur:4\n",
      "Entrer une valeur:70\n",
      "Entrer une valeur:5\n",
      "Entrer une valeur:6\n",
      "Entrer une valeur:7\n",
      "Entrer une valeur:8\n",
      "Entrer une valeur:5\n",
      "Entrer une valeur:61\n",
      "[[9.0, -2.0, -1.0, 3.0, 4.0], [6.0, 30.0, 1.0, 4.0, 9.0], [5.0, 9.0, 41.0, -2.0, 1.0], [6.0, 9.0, 4.0, 70.0, 5.0], [6.0, 7.0, 8.0, 5.0, 61.0]]\n",
      "Entrer une valeur pour la matrice b :1\n",
      "Entrer une valeur pour la matrice b :2\n",
      "Entrer une valeur pour la matrice b :3\n",
      "Entrer une valeur pour la matrice b :4\n",
      "Entrer une valeur pour la matrice b :5\n",
      "Entrer les valeurs de la matrice initiale:0\n",
      "Entrer les valeurs de la matrice initiale:0\n",
      "Entrer les valeurs de la matrice initiale:0\n",
      "Entrer les valeurs de la matrice initiale:0\n",
      "Entrer les valeurs de la matrice initiale:0\n"
     ]
    },
    {
     "data": {
      "text/plain": [
       "([[9.0, -2.0, -1.0, 3.0, 4.0],\n",
       "  [6.0, 30.0, 1.0, 4.0, 9.0],\n",
       "  [5.0, 9.0, 41.0, -2.0, 1.0],\n",
       "  [6.0, 9.0, 4.0, 70.0, 5.0],\n",
       "  [6.0, 7.0, 8.0, 5.0, 61.0]],\n",
       " [1, 2, 3, 4, 5],\n",
       " [0, 0, 0, 0, 0])"
      ]
     },
     "execution_count": 2,
     "metadata": {},
     "output_type": "execute_result"
    }
   ],
   "source": [
    "Acquisition()"
   ]
  },
  {
   "cell_type": "code",
   "execution_count": 13,
   "id": "9ecc7d3b",
   "metadata": {},
   "outputs": [],
   "source": [
    "#verification est ce que la matrice A est diagonale dominante et ne contient pas de valeurs nulles\n",
    "def Verification(L,B):\n",
    "    for i in range(n):\n",
    "        a=0\n",
    "        for j in range(n):\n",
    "            if i!=j :\n",
    "                a+=L[i][j]\n",
    "        if L[i][i]>=a and L[i][i]!=0 : return True \n",
    "    return False"
   ]
  },
  {
   "cell_type": "code",
   "execution_count": 31,
   "id": "322c25c8",
   "metadata": {},
   "outputs": [],
   "source": [
    "def P_Traitement():\n",
    "    #List=Acquisition()\n",
    "    #L=list[0]\n",
    "    #B=list[1]\n",
    "    #X0=list[2]    \n",
    "    #n=List[3]\n",
    "    n=3\n",
    "    L=[[5.0,2.0,-1.0],[1.0,6.0,-3.0],[2.0,1.0,4.0]] #c'est juste pour faciliter la verification est ce qu'il ça marche ou pas.   \n",
    "    B=[6.0,4.0,7.0] #c'est juste pour faciliter la verification est ce qu'il ça marche ou pas.   \n",
    "    X0=[0.0,0.0,0.0] #c'est juste pour faciliter la verification est ce qu'il ça marche ou pas.   \n",
    "   # valab=Verification(L,B) # verifier si les critères sont valables ou pas\n",
    "    valab=False\n",
    "    if valab==False:\n",
    "        max_it=int(input('tapper le max_it \\n')) #pour ajouter le nombre d'itérations\n",
    "       \n",
    "    \n",
    " ### la partie à modifier   \n",
    "        \n",
    "    \n",
    "    \n",
    "    for i in range(max_it):\n",
    "        list_p=[]\n",
    "        for k in range(n):\n",
    "            list_1=[]\n",
    "            for m in range(n):\n",
    "                x=\"x\"+str(m)\n",
    "                print(x)\n",
    "                y=0\n",
    "                for r in range(n):\n",
    "                    xy=(L[k][m]*X0[m])/B[k]\n",
    "                    y+=xy\n",
    "                y+=B[k]\n",
    "                x_name=x+\"=\"+str(y)\n",
    "                list_1.append(x_name)\n",
    "   #         print(\"la\",i+1,'ème itération:') \n",
    "        list_p.append(list_1)\n",
    "        print(list_1)\n",
    "   # else: print(\"la matrice n'est pas diagonale dominante\")  "
   ]
  },
  {
   "cell_type": "code",
   "execution_count": 32,
   "id": "8de60869",
   "metadata": {
    "scrolled": false
   },
   "outputs": [
    {
     "name": "stdout",
     "output_type": "stream",
     "text": [
      "tapper le max_it \n",
      "3\n",
      "x0\n",
      "x1\n",
      "x2\n",
      "x0\n",
      "x1\n",
      "x2\n",
      "x0\n",
      "x1\n",
      "x2\n",
      "['x0=7.0', 'x1=7.0', 'x2=7.0']\n",
      "x0\n",
      "x1\n",
      "x2\n",
      "x0\n",
      "x1\n",
      "x2\n",
      "x0\n",
      "x1\n",
      "x2\n",
      "['x0=7.0', 'x1=7.0', 'x2=7.0']\n",
      "x0\n",
      "x1\n",
      "x2\n",
      "x0\n",
      "x1\n",
      "x2\n",
      "x0\n",
      "x1\n",
      "x2\n",
      "['x0=7.0', 'x1=7.0', 'x2=7.0']\n"
     ]
    }
   ],
   "source": [
    "P_Traitement()"
   ]
  },
  {
   "cell_type": "code",
   "execution_count": null,
   "id": "37eebede",
   "metadata": {},
   "outputs": [],
   "source": []
  }
 ],
 "metadata": {
  "kernelspec": {
   "display_name": "Python 3 (ipykernel)",
   "language": "python",
   "name": "python3"
  },
  "language_info": {
   "codemirror_mode": {
    "name": "ipython",
    "version": 3
   },
   "file_extension": ".py",
   "mimetype": "text/x-python",
   "name": "python",
   "nbconvert_exporter": "python",
   "pygments_lexer": "ipython3",
   "version": "3.9.7"
  }
 },
 "nbformat": 4,
 "nbformat_minor": 5
}
